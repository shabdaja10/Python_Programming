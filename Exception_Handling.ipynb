{
 "cells": [
  {
   "cell_type": "code",
   "execution_count": 5,
   "id": "e9d413f8-8842-4798-a3b6-913145a04dbf",
   "metadata": {},
   "outputs": [
    {
     "name": "stdout",
     "output_type": "stream",
     "text": [
      "Cannot divide by 0\n"
     ]
    }
   ],
   "source": [
    "try:\n",
    "    a=3\n",
    "    b=0\n",
    "    c=a/b\n",
    "except:\n",
    "    print(\"Cannot divide by 0\")"
   ]
  },
  {
   "cell_type": "code",
   "execution_count": 36,
   "id": "1abc5c3d-90ae-4460-93be-83e9bd8c8539",
   "metadata": {},
   "outputs": [
    {
     "name": "stdout",
     "output_type": "stream",
     "text": [
      "Index out of range\n"
     ]
    }
   ],
   "source": [
    "# Not able to identify which error will occure\n",
    "try:\n",
    "    x = [1,2,3,4,5]\n",
    "    a=9\n",
    "    b=0\n",
    "    c=a/b\n",
    "    print(\"Accessing index\",x[4])\n",
    "    print(\"Dividing numbers: {}/{} = {}\".format(a,b,c))\n",
    "except:\n",
    "    print(\"Index out of range\")"
   ]
  },
  {
   "cell_type": "code",
   "execution_count": 37,
   "id": "3d4a50b9-edd0-4bd9-a5e2-2e41b3d647f9",
   "metadata": {},
   "outputs": [
    {
     "name": "stdout",
     "output_type": "stream",
     "text": [
      "Module Not Found Error\n"
     ]
    }
   ],
   "source": [
    "# 3 errors, code will break at 1st error line & will not goto the next line untill fixed\n",
    "try:\n",
    "    import panda as pd #error --> break \n",
    "    x = [1,2,3,4,5]\n",
    "    a=3\n",
    "    b=0 #error --> break\n",
    "    c=a/b\n",
    "    print(\"Accessing index\",x[5])\n",
    "    print(\"Dividing numbers: {}/{} = {}\".format(a,b,c))\n",
    "except ModuleNotFoundError:\n",
    "    print(\"Module Not Found Error\")\n",
    "except IndexError:\n",
    "    print(\"Index out of range\")\n",
    "except ZeroDivisionError:\n",
    "    print(\"Zero Division Error\")"
   ]
  },
  {
   "cell_type": "code",
   "execution_count": 47,
   "id": "f6c0e31a-e87f-4b26-8310-0ebca6399673",
   "metadata": {},
   "outputs": [
    {
     "name": "stdout",
     "output_type": "stream",
     "text": [
      "division by zero\n"
     ]
    }
   ],
   "source": [
    "# one Exception blk to handle all the errors without knowing exception type\n",
    "try:\n",
    "    import pandas as pd # error --> fixed \n",
    "    x = [1,2,3,4,5] \n",
    "    a=3\n",
    "    b=0  \n",
    "    c=a/b # error --> break\n",
    "    print(\"Accessing index\",x[5])  # error\n",
    "    print(\"Dividing numbers: {}/{} = {}\".format(a,b,c))\n",
    "except Exception as e:\n",
    "    print(e)"
   ]
  },
  {
   "cell_type": "code",
   "execution_count": 48,
   "id": "eefb88be-73ae-4de6-843e-1bb1241ab122",
   "metadata": {},
   "outputs": [
    {
     "name": "stdout",
     "output_type": "stream",
     "text": [
      "division by zero\n",
      "finally block\n"
     ]
    }
   ],
   "source": [
    "try:   # error code \n",
    "    import pandas as pd # error --> fixed \n",
    "    x = [1,2,3,4,5] \n",
    "    a=3\n",
    "    b=0  \n",
    "    c=a/b # error --> break\n",
    "    print(\"Accessing index\",x[5])  # error\n",
    "    print(\"Dividing numbers: {}/{} = {}\".format(a,b,c))\n",
    "except Exception as e:  # handle exception\n",
    "    print(e)\n",
    "finally:   # display blk irrespective of error\n",
    "    print(\"finally block\")"
   ]
  },
  {
   "cell_type": "code",
   "execution_count": null,
   "id": "b9d15388-33a0-4e04-9fae-374f88e27cc2",
   "metadata": {},
   "outputs": [],
   "source": []
  }
 ],
 "metadata": {
  "kernelspec": {
   "display_name": "Python [conda env:base] *",
   "language": "python",
   "name": "conda-base-py"
  },
  "language_info": {
   "codemirror_mode": {
    "name": "ipython",
    "version": 3
   },
   "file_extension": ".py",
   "mimetype": "text/x-python",
   "name": "python",
   "nbconvert_exporter": "python",
   "pygments_lexer": "ipython3",
   "version": "3.12.7"
  }
 },
 "nbformat": 4,
 "nbformat_minor": 5
}
