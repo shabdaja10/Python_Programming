{
 "cells": [
  {
   "cell_type": "code",
   "execution_count": null,
   "id": "61529f14-8493-4d72-9245-22dbbbbc9271",
   "metadata": {},
   "outputs": [],
   "source": [
    "# Cube of given numbers in the list format"
   ]
  },
  {
   "cell_type": "code",
   "execution_count": 1,
   "id": "1a9fea73-2490-4ee7-ae93-5ccc3b887def",
   "metadata": {},
   "outputs": [],
   "source": [
    "numbers = [1, 2, 3, 4, 5, 6, 7]"
   ]
  },
  {
   "cell_type": "code",
   "execution_count": 3,
   "id": "34f68eea-2fc3-417d-8212-b1f4e1056ff4",
   "metadata": {},
   "outputs": [
    {
     "name": "stdout",
     "output_type": "stream",
     "text": [
      "[1, 8, 27, 64, 125, 216, 343]\n"
     ]
    }
   ],
   "source": [
    "result = []\n",
    "for i in numbers:\n",
    "    result.append(i**3)\n",
    "print(result)"
   ]
  },
  {
   "cell_type": "code",
   "execution_count": null,
   "id": "454133cd-0415-497b-8c39-f592b60345f6",
   "metadata": {},
   "outputs": [],
   "source": [
    "# Cube of given numbers in the list format using function"
   ]
  },
  {
   "cell_type": "code",
   "execution_count": 4,
   "id": "f26ced11-45c7-457d-946f-089675d31d9a",
   "metadata": {},
   "outputs": [],
   "source": [
    "def cube(n):\n",
    "    return n*n*n"
   ]
  },
  {
   "cell_type": "code",
   "execution_count": 5,
   "id": "84aa45da-49c3-403f-aef4-0122045f1c17",
   "metadata": {},
   "outputs": [
    {
     "data": {
      "text/plain": [
       "216"
      ]
     },
     "execution_count": 5,
     "metadata": {},
     "output_type": "execute_result"
    }
   ],
   "source": [
    "cube(6)"
   ]
  },
  {
   "cell_type": "code",
   "execution_count": 6,
   "id": "23b863a1-2203-4198-9901-4d0be0b9b450",
   "metadata": {},
   "outputs": [
    {
     "name": "stdout",
     "output_type": "stream",
     "text": [
      "[1, 8, 27, 64, 125, 216, 343]\n"
     ]
    }
   ],
   "source": [
    "res = []\n",
    "for i in numbers:\n",
    "    res.append(cube(i))\n",
    "print(res)"
   ]
  },
  {
   "cell_type": "code",
   "execution_count": null,
   "id": "a688c485-7bae-478d-a734-8a0db622b086",
   "metadata": {},
   "outputs": [],
   "source": [
    "# using map() function \n",
    "# map syntax --> map(function, list/tuple)"
   ]
  },
  {
   "cell_type": "code",
   "execution_count": null,
   "id": "ce82707f-c879-4bc8-aada-c9a1415e41ce",
   "metadata": {},
   "outputs": [],
   "source": [
    "# map is used to apply function to each and every element of list/tuple instead of loops\n",
    "# map function is used to write code without for loop\n",
    "# No need to write any loops\n",
    "# number of input elements = same number of output elements  "
   ]
  },
  {
   "cell_type": "code",
   "execution_count": 7,
   "id": "6bd17ba1-6484-4123-8e18-afea9956bc7f",
   "metadata": {},
   "outputs": [
    {
     "name": "stdout",
     "output_type": "stream",
     "text": [
      "[1, 8, 27, 64, 125, 216, 343]\n"
     ]
    }
   ],
   "source": [
    "res_map = map(cube, numbers)\n",
    "print(list(res_map))"
   ]
  },
  {
   "cell_type": "code",
   "execution_count": null,
   "id": "a590803b-1a8d-4300-9576-d10849942701",
   "metadata": {},
   "outputs": [],
   "source": [
    "# Print table of nine without map()"
   ]
  },
  {
   "cell_type": "code",
   "execution_count": 8,
   "id": "dfe64b00-fe99-436b-b21e-7b0497c3adef",
   "metadata": {},
   "outputs": [],
   "source": [
    "num = (1,2,3,4,5,6,7,8,9,10)    "
   ]
  },
  {
   "cell_type": "code",
   "execution_count": 10,
   "id": "5455ae5b-c339-43cf-a9f6-49cd2d15c195",
   "metadata": {},
   "outputs": [],
   "source": [
    "def tab_nine(n):\n",
    "    return n * 9"
   ]
  },
  {
   "cell_type": "code",
   "execution_count": 15,
   "id": "676be9fc-51c9-4f8f-89fc-bd7aaf8a52cc",
   "metadata": {},
   "outputs": [
    {
     "name": "stdout",
     "output_type": "stream",
     "text": [
      "[9, 18, 27, 36, 45, 54, 63, 72, 81, 90]\n"
     ]
    }
   ],
   "source": [
    "res = []\n",
    "for i in num:\n",
    "    res.append(tab_nine(i))\n",
    "print(res)  "
   ]
  },
  {
   "cell_type": "code",
   "execution_count": 13,
   "id": "14a943a5-fed6-4e47-b669-6f7c2d1a3f02",
   "metadata": {},
   "outputs": [
    {
     "name": "stdout",
     "output_type": "stream",
     "text": [
      "(9, 18, 27, 36, 45, 54, 63, 72, 81, 90)\n"
     ]
    }
   ],
   "source": [
    "# with map()\n",
    "res_map = map(tab_nine, num)\n",
    "print(tuple(res_map))"
   ]
  },
  {
   "cell_type": "code",
   "execution_count": null,
   "id": "2699ed5d-a5b5-40d0-9a18-1bcf1dbb4b38",
   "metadata": {},
   "outputs": [],
   "source": [
    "# Print even numbers"
   ]
  },
  {
   "cell_type": "code",
   "execution_count": 16,
   "id": "64d46388-e6b4-4162-b8c0-dcddb7cbfcf9",
   "metadata": {},
   "outputs": [],
   "source": [
    "num = [1,2,3,4,5,6,7,8,9,10]"
   ]
  },
  {
   "cell_type": "code",
   "execution_count": 23,
   "id": "a7b3de5c-faaa-4d2a-a41d-cf3c4e65faba",
   "metadata": {},
   "outputs": [
    {
     "name": "stdout",
     "output_type": "stream",
     "text": [
      "[2, 4, 6, 8, 10]\n"
     ]
    }
   ],
   "source": [
    "out = []\n",
    "for i in num:\n",
    "    if i%2==0:\n",
    "        out.append(i)\n",
    "print(out)"
   ]
  },
  {
   "cell_type": "code",
   "execution_count": 22,
   "id": "d74b18f4-3a00-421f-b679-f74d47f1d5a9",
   "metadata": {},
   "outputs": [
    {
     "name": "stdout",
     "output_type": "stream",
     "text": [
      "[2, 4, 6, 8, 10]\n"
     ]
    }
   ],
   "source": [
    "# with function Print even numbers"
   ]
  },
  {
   "cell_type": "code",
   "execution_count": 28,
   "id": "5e569422-356b-43f2-8cb3-a8f4ab1903ec",
   "metadata": {},
   "outputs": [],
   "source": [
    "def even_no(n):\n",
    "    if n%2==0:\n",
    "        return n"
   ]
  },
  {
   "cell_type": "code",
   "execution_count": 35,
   "id": "14762ea5-8094-4125-9ffd-ba948e150abd",
   "metadata": {},
   "outputs": [
    {
     "data": {
      "text/plain": [
       "4"
      ]
     },
     "execution_count": 35,
     "metadata": {},
     "output_type": "execute_result"
    }
   ],
   "source": [
    "even_no(4)\n",
    "# even_no(7)"
   ]
  },
  {
   "cell_type": "code",
   "execution_count": 40,
   "id": "af3076ba-0e5d-4011-9245-8f8581d9ad05",
   "metadata": {},
   "outputs": [
    {
     "name": "stdout",
     "output_type": "stream",
     "text": [
      "[2, 4, 6, 8, 10]\n"
     ]
    }
   ],
   "source": [
    "res = []\n",
    "for i in num:\n",
    "    if even_no(i):    # function even_no\n",
    "        res.append(i)\n",
    "print(res)"
   ]
  },
  {
   "cell_type": "code",
   "execution_count": 41,
   "id": "5caa26a9-6580-43df-9c87-a164b54ba09b",
   "metadata": {},
   "outputs": [
    {
     "name": "stdout",
     "output_type": "stream",
     "text": [
      "[None, 2, None, 4, None, 6, None, 8, None, 10]\n"
     ]
    }
   ],
   "source": [
    "# with map()\n",
    "res_map = map(even_no, num)\n",
    "print(list(res_map))"
   ]
  },
  {
   "cell_type": "code",
   "execution_count": null,
   "id": "cd2a9d38-5fdf-4f14-a76b-c32c8f21f83d",
   "metadata": {},
   "outputs": [],
   "source": [
    "# if input is 10 numbers map() will give 10 numbers output \n",
    "# hence filter() is used to apply to the elements"
   ]
  },
  {
   "cell_type": "code",
   "execution_count": null,
   "id": "ad0892eb-d876-4ac7-9bc6-2d9cc94fdcea",
   "metadata": {},
   "outputs": [],
   "source": [
    "# filter()\n",
    "# syntax: finter(function,list/tuple)\n",
    "'''\n",
    "filter is a built in funtion used to apply to every elements of the list/tuple\n",
    "and gets filtered according to logic\n",
    "'''\n",
    "# No need to write any loops"
   ]
  },
  {
   "cell_type": "code",
   "execution_count": 43,
   "id": "58fcf988-4e85-47b0-83ea-0858445f1925",
   "metadata": {},
   "outputs": [
    {
     "name": "stdout",
     "output_type": "stream",
     "text": [
      "[2, 4, 6, 8, 10]\n"
     ]
    }
   ],
   "source": [
    "res_filter = filter(even_no, num)\n",
    "print(list(res_filter))"
   ]
  },
  {
   "cell_type": "code",
   "execution_count": null,
   "id": "95a85a07-46e9-4fee-bdcb-162f673af4b3",
   "metadata": {},
   "outputs": [],
   "source": [
    "#  Use Case --> 2024 Loksabha elections\n",
    "# voterid --> we have voterid's we have to filter eligible voters    "
   ]
  },
  {
   "cell_type": "code",
   "execution_count": 44,
   "id": "c7d0c957-8167-4627-aa3e-3253a52b85d2",
   "metadata": {},
   "outputs": [],
   "source": [
    "age = [23, 55, 45, 16, 61, 25, 72, 17, 18, 15, 33]"
   ]
  },
  {
   "cell_type": "code",
   "execution_count": 48,
   "id": "e6f12b00-3eab-4266-88b4-193dc5c9e7e8",
   "metadata": {},
   "outputs": [],
   "source": [
    "# without filter()\n",
    "def vote_check(n):\n",
    "    if n >= 18:\n",
    "        return n"
   ]
  },
  {
   "cell_type": "code",
   "execution_count": 52,
   "id": "921cfa33-e6bb-4b01-92e3-e969730feb5e",
   "metadata": {},
   "outputs": [
    {
     "data": {
      "text/plain": [
       "77"
      ]
     },
     "execution_count": 52,
     "metadata": {},
     "output_type": "execute_result"
    }
   ],
   "source": [
    "vote_check(77)"
   ]
  },
  {
   "cell_type": "code",
   "execution_count": 56,
   "id": "4e0745ec-1f69-40b9-9050-f2ed877f7e97",
   "metadata": {},
   "outputs": [],
   "source": [
    "vote_check(17)"
   ]
  },
  {
   "cell_type": "code",
   "execution_count": 57,
   "id": "dbc194ef-87fe-41a7-8176-acb0f23ce0a4",
   "metadata": {},
   "outputs": [
    {
     "name": "stdout",
     "output_type": "stream",
     "text": [
      "[23, 55, 45, 61, 25, 72, 18, 33]\n"
     ]
    }
   ],
   "source": [
    "vote_eligible = []\n",
    "for i in age:\n",
    "    if vote_check(i):\n",
    "        vote_eligible.append(i)\n",
    "print(list(vote_eligible))"
   ]
  },
  {
   "cell_type": "code",
   "execution_count": 60,
   "id": "91e946ff-d179-4233-b5e0-34243efed777",
   "metadata": {},
   "outputs": [
    {
     "name": "stdout",
     "output_type": "stream",
     "text": [
      "[23, 55, 45, None, 61, 25, 72, None, 18, None, 33]\n"
     ]
    }
   ],
   "source": [
    "# with map()\n",
    "vote_map = map(vote_check, age)\n",
    "print(list(vote_map))"
   ]
  },
  {
   "cell_type": "code",
   "execution_count": 59,
   "id": "02608c27-cea0-4511-8bce-f0b86fcb76b8",
   "metadata": {},
   "outputs": [
    {
     "name": "stdout",
     "output_type": "stream",
     "text": [
      "[23, 55, 45, 61, 25, 72, 18, 33]\n"
     ]
    }
   ],
   "source": [
    "# with filter()\n",
    "vote_filter = filter(vote_check, age)\n",
    "print(list(vote_filter))"
   ]
  },
  {
   "cell_type": "code",
   "execution_count": null,
   "id": "9f8968c6-a4d2-43df-a2ca-44c16795c695",
   "metadata": {},
   "outputs": [],
   "source": [
    "# map() and filter() are faster then loops"
   ]
  }
 ],
 "metadata": {
  "kernelspec": {
   "display_name": "Python [conda env:base] *",
   "language": "python",
   "name": "conda-base-py"
  },
  "language_info": {
   "codemirror_mode": {
    "name": "ipython",
    "version": 3
   },
   "file_extension": ".py",
   "mimetype": "text/x-python",
   "name": "python",
   "nbconvert_exporter": "python",
   "pygments_lexer": "ipython3",
   "version": "3.12.7"
  }
 },
 "nbformat": 4,
 "nbformat_minor": 5
}
