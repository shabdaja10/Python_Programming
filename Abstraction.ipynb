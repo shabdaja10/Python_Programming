{
 "cells": [
  {
   "cell_type": "code",
   "execution_count": 1,
   "id": "d859b368-649e-4816-9346-57956fc9d6d4",
   "metadata": {},
   "outputs": [],
   "source": [
    "from abc import ABC, abstractmethod"
   ]
  },
  {
   "cell_type": "code",
   "execution_count": 3,
   "id": "c946719b-c49d-4dff-bb46-c00e7569f5fd",
   "metadata": {},
   "outputs": [],
   "source": [
    "# declaraction class\n",
    "class InstituteDetails(ABC):\n",
    "    def __init__(self, data):\n",
    "        self.data = data\n",
    "    @abstractmethod\n",
    "    def trainer_details(self):\n",
    "        pass\n",
    "    @abstractmethod\n",
    "    def trainer_qualification(self):\n",
    "        pass\n",
    "    @abstractmethod\n",
    "    def trainer_salary(self):\n",
    "        pass"
   ]
  },
  {
   "cell_type": "code",
   "execution_count": 4,
   "id": "75e72e39-11bc-4666-8bdb-fc8d5016604e",
   "metadata": {},
   "outputs": [],
   "source": [
    "class ImplementationClass(InstituteDetails):\n",
    "    def trainer_details(self):\n",
    "        print('Trainers are professional')\n",
    "    def trainer_qualification(self):\n",
    "        print('Trainers have Masters Degree')\n",
    "    def trainer_salary(self):\n",
    "        return 2000*100        "
   ]
  },
  {
   "cell_type": "code",
   "execution_count": 5,
   "id": "f700d192-71b8-436c-8886-0c2f48ffa2da",
   "metadata": {},
   "outputs": [],
   "source": [
    "def show_details(Institute_Details):\n",
    "    return ImplementationClass('data')        # abstraction"
   ]
  },
  {
   "cell_type": "code",
   "execution_count": 7,
   "id": "e9e5583c-9a23-4b4a-b4f2-c5ea1b166a42",
   "metadata": {},
   "outputs": [
    {
     "name": "stdout",
     "output_type": "stream",
     "text": [
      "Trainers are professional\n",
      "Trainers have Masters Degree\n"
     ]
    },
    {
     "data": {
      "text/plain": [
       "200000"
      ]
     },
     "execution_count": 7,
     "metadata": {},
     "output_type": "execute_result"
    }
   ],
   "source": [
    "a = show_details('data')    # no information whats the original class\n",
    "a.trainer_details()         \n",
    "a.trainer_qualification()\n",
    "a.trainer_salary()"
   ]
  },
  {
   "cell_type": "code",
   "execution_count": null,
   "id": "4b08f98a-da68-43ed-b149-fe5e9c0a9273",
   "metadata": {},
   "outputs": [],
   "source": [
    "# without Implementation class object we are able to see the details"
   ]
  }
 ],
 "metadata": {
  "kernelspec": {
   "display_name": "Python [conda env:base] *",
   "language": "python",
   "name": "conda-base-py"
  },
  "language_info": {
   "codemirror_mode": {
    "name": "ipython",
    "version": 3
   },
   "file_extension": ".py",
   "mimetype": "text/x-python",
   "name": "python",
   "nbconvert_exporter": "python",
   "pygments_lexer": "ipython3",
   "version": "3.12.7"
  }
 },
 "nbformat": 4,
 "nbformat_minor": 5
}
